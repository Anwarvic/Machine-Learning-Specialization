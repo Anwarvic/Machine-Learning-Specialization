{
 "cells": [
  {
   "cell_type": "markdown",
   "metadata": {},
   "source": [
    "## Fitting a diagonal covariance Gaussian mixture model to text data\n",
    "\n",
    "In a previous assignment, we explored k-means clustering for a high-dimensional Wikipedia dataset. We can also model this data with a mixture of Gaussians, though with increasing dimension we run into two important issues associated with using a full covariance matrix for each component.\n",
    " * Computational cost becomes prohibitive in high dimensions: score calculations have complexity cubic in the number of dimensions M if the Gaussian has a full covariance matrix.\n",
    " * A model with many parameters require more data: observe that a full covariance matrix for an M-dimensional Gaussian will have M(M+1)/2 parameters to fit. With the number of parameters growing roughly as the square of the dimension, it may quickly become impossible to find a sufficient amount of data to make good inferences.\n",
    "\n",
    "Both of these issues are avoided if we require the covariance matrix of each component to be diagonal, as then it has only M parameters to fit and the score computation decomposes into M univariate score calculations. Recall from the lecture that the M-step for the full covariance is:\n",
    "\n",
    "\\begin{align*}\n",
    "\\hat{\\Sigma}_k &= \\frac{1}{N_k^{soft}} \\sum_{i=1}^N r_{ik} (x_i-\\hat{\\mu}_k)(x_i - \\hat{\\mu}_k)^T\n",
    "\\end{align*}\n",
    "\n",
    "Note that this is a square matrix with M rows and M columns, and the above equation implies that the (v, w) element is computed by\n",
    "\n",
    "\\begin{align*}\n",
    "\\hat{\\Sigma}_{k, v, w} &= \\frac{1}{N_k^{soft}} \\sum_{i=1}^N r_{ik} (x_{iv}-\\hat{\\mu}_{kv})(x_{iw} - \\hat{\\mu}_{kw})\n",
    "\\end{align*}\n",
    "\n",
    "When we assume that this is a diagonal matrix, then non-diagonal elements are assumed to be zero and we only need to compute each of the M elements along the diagonal independently using the following equation. \n",
    "\n",
    "\\begin{align*}\n",
    "\\hat{\\sigma}^2_{k, v} &= \\hat{\\Sigma}_{k, v, v}  \\\\\n",
    "&= \\frac{1}{N_k^{soft}} \\sum_{i=1}^N r_{ik} (x_{iv}-\\hat{\\mu}_{kv})^2\n",
    "\\end{align*}\n",
    "\n",
    "In this section, we will use an EM implementation to fit a Gaussian mixture model with **diagonal** covariances to a subset of the Wikipedia dataset. The implementation uses the above equation to compute each variance term. \n",
    "\n",
    "We'll begin by importing the dataset and coming up with a useful representation for each article. After running our algorithm on the data, we will explore the output to see whether we can give a meaningful interpretation to the fitted parameters in our model."
   ]
  },
  {
   "cell_type": "markdown",
   "metadata": {},
   "source": [
    "**Note to Amazon EC2 users**: To conserve memory, make sure to stop all the other notebooks before running this notebook."
   ]
  },
  {
   "cell_type": "markdown",
   "metadata": {},
   "source": [
    "## Import necessary packages"
   ]
  },
  {
   "cell_type": "markdown",
   "metadata": {},
   "source": [
    "The following code block will check if you have the correct version of GraphLab Create. Any version later than 1.8.5 will do. To upgrade, read [this page](https://turi.com/download/upgrade-graphlab-create.html)."
   ]
  },
  {
   "cell_type": "code",
   "execution_count": 1,
   "metadata": {
    "collapsed": false
   },
   "outputs": [],
   "source": [
    "import graphlab\n",
    "\n",
    "'''Check GraphLab Create version'''\n",
    "from distutils.version import StrictVersion\n",
    "assert (StrictVersion(graphlab.version) >= StrictVersion('1.8.5')), 'GraphLab Create must be version 1.8.5 or later.'"
   ]
  },
  {
   "cell_type": "markdown",
   "metadata": {},
   "source": [
    "We also have a Python file containing implementations for several functions that will be used during the course of this assignment."
   ]
  },
  {
   "cell_type": "code",
   "execution_count": 2,
   "metadata": {
    "collapsed": false
   },
   "outputs": [],
   "source": [
    "from em_utilities import *"
   ]
  },
  {
   "cell_type": "markdown",
   "metadata": {},
   "source": [
    "## Load Wikipedia data and extract TF-IDF features"
   ]
  },
  {
   "cell_type": "markdown",
   "metadata": {},
   "source": [
    "Load Wikipedia data and transform each of the first 5000 document into a TF-IDF representation."
   ]
  },
  {
   "cell_type": "code",
   "execution_count": 3,
   "metadata": {
    "collapsed": false
   },
   "outputs": [
    {
     "name": "stderr",
     "output_type": "stream",
     "text": [
      "[INFO] graphlab.cython.cy_server: GraphLab Create v2.1 started. Logging: C:\\Users\\anwar\\AppData\\Local\\Temp\\graphlab_server_1483834800.log.0\n",
      "INFO:graphlab.cython.cy_server:GraphLab Create v2.1 started. Logging: C:\\Users\\anwar\\AppData\\Local\\Temp\\graphlab_server_1483834800.log.0\n"
     ]
    },
    {
     "name": "stdout",
     "output_type": "stream",
     "text": [
      "This non-commercial license of GraphLab Create for academic use is assigned to 1101071@eng.asu.edu.eg and will expire on April 10, 2017.\n"
     ]
    }
   ],
   "source": [
    "wiki = graphlab.SFrame('people_wiki.gl/').head(5000)\n",
    "wiki['tf_idf'] = graphlab.text_analytics.tf_idf(wiki['text'])"
   ]
  },
  {
   "cell_type": "markdown",
   "metadata": {},
   "source": [
    "Using a utility we provide, we will create a sparse matrix representation of the documents. This is the same utility function you used during the previous assignment on k-means with text data."
   ]
  },
  {
   "cell_type": "code",
   "execution_count": 4,
   "metadata": {
    "collapsed": false
   },
   "outputs": [],
   "source": [
    "tf_idf, map_index_to_word = sframe_to_scipy(wiki, 'tf_idf')"
   ]
  },
  {
   "cell_type": "markdown",
   "metadata": {},
   "source": [
    "As in the previous assignment, we will normalize each document's TF-IDF vector to be a unit vector. "
   ]
  },
  {
   "cell_type": "code",
   "execution_count": 5,
   "metadata": {
    "collapsed": false
   },
   "outputs": [],
   "source": [
    "tf_idf = normalize(tf_idf)"
   ]
  },
  {
   "cell_type": "markdown",
   "metadata": {},
   "source": [
    "We can check that the length (Euclidean norm) of each row is now 1.0, as expected."
   ]
  },
  {
   "cell_type": "code",
   "execution_count": 6,
   "metadata": {
    "collapsed": false,
    "scrolled": true
   },
   "outputs": [
    {
     "name": "stdout",
     "output_type": "stream",
     "text": [
      "1.0\n",
      "1.0\n",
      "1.0\n",
      "1.0\n",
      "1.0\n"
     ]
    }
   ],
   "source": [
    "for i in range(5):\n",
    "    doc = tf_idf[i]\n",
    "    print(np.linalg.norm(doc.todense()))"
   ]
  },
  {
   "cell_type": "markdown",
   "metadata": {},
   "source": [
    "## EM in high dimensions\n",
    "\n",
    "EM for high-dimensional data requires some special treatment:\n",
    " * E step and M step must be vectorized as much as possible, as explicit loops are dreadfully slow in Python.\n",
    " * All operations must be cast in terms of sparse matrix operations, to take advantage of computational savings enabled by sparsity of data.\n",
    " * Initially, some words may be entirely absent from a cluster, causing the M step to produce zero mean and variance for those words.  This means any data point with one of those words will have 0 probability of being assigned to that cluster since the cluster allows for no variability (0 variance) around that count being 0 (0 mean). Since there is a small chance for those words to later appear in the cluster, we instead assign a small positive variance (~1e-10). Doing so also prevents numerical overflow.\n",
    " \n",
    "We provide the complete implementation for you in the file `em_utilities.py`. For those who are interested, you can read through the code to see how the sparse matrix implementation differs from the previous assignment. \n",
    "\n",
    "You are expected to answer some quiz questions using the results of clustering."
   ]
  },
  {
   "cell_type": "markdown",
   "metadata": {},
   "source": [
    "**Initializing mean parameters using k-means**\n",
    "\n",
    "Recall from the lectures that EM for Gaussian mixtures is very sensitive to the choice of initial means. With a bad initial set of means, EM may produce clusters that span a large area and are mostly overlapping. To eliminate such bad outcomes, we first produce a suitable set of initial means by using the cluster centers from running k-means.  That is, we first run k-means and then take the final set of means from the converged solution as the initial means in our EM algorithm."
   ]
  },
  {
   "cell_type": "code",
   "execution_count": 7,
   "metadata": {
    "collapsed": false
   },
   "outputs": [
    {
     "name": "stdout",
     "output_type": "stream",
     "text": [
      "25\n"
     ]
    }
   ],
   "source": [
    "from sklearn.cluster import KMeans\n",
    "\n",
    "np.random.seed(5)\n",
    "num_clusters = 25\n",
    "\n",
    "# Use scikit-learn's k-means to simplify workflow\n",
    "#kmeans_model = KMeans(n_clusters=num_clusters, n_init=5, max_iter=400, random_state=1, n_jobs=-1)\n",
    "# uncomment the previous line to use parallelism -- may break on your installation\n",
    "kmeans_model = KMeans(n_clusters=num_clusters, n_init=5, max_iter=400, random_state=1, n_jobs=1)\n",
    "kmeans_model.fit(tf_idf)\n",
    "centroids, cluster_assignment = kmeans_model.cluster_centers_, kmeans_model.labels_\n",
    "\n",
    "means = [centroid for centroid in centroids]\n",
    "print len(means)"
   ]
  },
  {
   "cell_type": "markdown",
   "metadata": {},
   "source": [
    "**Initializing cluster weights**\n",
    "\n",
    "We will initialize each cluster weight to be the proportion of documents assigned to that cluster by k-means above."
   ]
  },
  {
   "cell_type": "code",
   "execution_count": 8,
   "metadata": {
    "collapsed": false
   },
   "outputs": [
    {
     "name": "stdout",
     "output_type": "stream",
     "text": [
      "25\n"
     ]
    }
   ],
   "source": [
    "num_docs = tf_idf.shape[0]\n",
    "weights = []\n",
    "\n",
    "for i in xrange(num_clusters):\n",
    "    # Compute the number of data points assigned to cluster i:\n",
    "    num_assigned = len( cluster_assignment[cluster_assignment==i] )\n",
    "    w = float(num_assigned) / num_docs\n",
    "    weights.append(w)\n",
    "\n",
    "print len(weights)"
   ]
  },
  {
   "cell_type": "markdown",
   "metadata": {},
   "source": [
    "**Initializing covariances**\n",
    "\n",
    "To initialize our covariance parameters, we compute $\\hat{\\sigma}_{k, j}^2 = \\sum_{i=1}^{N}(x_{i,j} - \\hat{\\mu}_{k, j})^2$ for each feature $j$.  For features with really tiny variances, we assign 1e-8 instead to prevent numerical instability. We do this computation in a vectorized fashion in the following code block."
   ]
  },
  {
   "cell_type": "code",
   "execution_count": 9,
   "metadata": {
    "collapsed": false
   },
   "outputs": [
    {
     "name": "stdout",
     "output_type": "stream",
     "text": [
      "25\n"
     ]
    }
   ],
   "source": [
    "covs = []\n",
    "for i in xrange(num_clusters):\n",
    "    member_rows = tf_idf[cluster_assignment==i]\n",
    "    cov = (member_rows.multiply(member_rows) - 2*member_rows.dot(diag(means[i]))).sum(axis=0).A1 / member_rows.shape[0] \\\n",
    "          + means[i]**2\n",
    "    cov[cov < 1e-8] = 1e-8\n",
    "    covs.append(cov)\n",
    "\n",
    "print len(covs)"
   ]
  },
  {
   "cell_type": "markdown",
   "metadata": {},
   "source": [
    "**Running EM**\n",
    "\n",
    "Now that we have initialized all of our parameters, run EM."
   ]
  },
  {
   "cell_type": "code",
   "execution_count": 10,
   "metadata": {
    "collapsed": false,
    "scrolled": true
   },
   "outputs": [],
   "source": [
    "out = EM_for_high_dimension(tf_idf, means, covs, weights, cov_smoothing=1e-10)"
   ]
  },
  {
   "cell_type": "code",
   "execution_count": 11,
   "metadata": {
    "collapsed": false
   },
   "outputs": [
    {
     "data": {
      "text/plain": [
       "[3879297479.366981, 4883345753.5331306, 4883345753.5331306]"
      ]
     },
     "execution_count": 11,
     "metadata": {},
     "output_type": "execute_result"
    }
   ],
   "source": [
    "out['loglik']"
   ]
  },
  {
   "cell_type": "code",
   "execution_count": 12,
   "metadata": {
    "collapsed": false
   },
   "outputs": [
    {
     "name": "stdout",
     "output_type": "stream",
     "text": [
      "(5000, 100282)\n",
      "['loglik', 'resp', 'covs', 'weights', 'means']\n",
      "+---------+--------------+-------+\n",
      "| feature |   category   | index |\n",
      "+---------+--------------+-------+\n",
      "| feature |  conflating  |   0   |\n",
      "| feature |   diamono    |   1   |\n",
      "| feature |   bailouts   |   2   |\n",
      "| feature | electionruss |   3   |\n",
      "| feature |   maywoods   |   4   |\n",
      "| feature |   feduring   |   5   |\n",
      "| feature |  spiderbait  |   6   |\n",
      "| feature |     mcin     |   7   |\n",
      "| feature |  sumiswald   |   8   |\n",
      "| feature |    quinta    |   9   |\n",
      "+---------+--------------+-------+\n",
      "[100282 rows x 3 columns]\n",
      "Note: Only the head of the SFrame is printed.\n",
      "You can use print_rows(num_rows=m, num_columns=n) to print more rows and columns.\n"
     ]
    }
   ],
   "source": [
    "print tf_idf.shape\n",
    "print out.keys()\n",
    "print map_index_to_word"
   ]
  },
  {
   "cell_type": "markdown",
   "metadata": {},
   "source": [
    "## Interpret clustering results"
   ]
  },
  {
   "cell_type": "markdown",
   "metadata": {},
   "source": [
    "In contrast to k-means, EM is able to explicitly model clusters of varying sizes and proportions. The relative magnitude of variances in the word dimensions tell us much about the nature of the clusters.\n",
    "\n",
    "Write yourself a cluster visualizer as follows.  Examining each cluster's mean vector, list the 5 words with the largest mean values (5 most common words in the cluster). For each word, also include the associated variance parameter (diagonal element of the covariance matrix). \n",
    "\n",
    "A sample output may be:\n",
    "```\n",
    "==========================================================\n",
    "Cluster 0: Largest mean parameters in cluster \n",
    "\n",
    "Word        Mean        Variance    \n",
    "football    1.08e-01    8.64e-03\n",
    "season      5.80e-02    2.93e-03\n",
    "club        4.48e-02    1.99e-03\n",
    "league      3.94e-02    1.08e-03\n",
    "played      3.83e-02    8.45e-04\n",
    "...\n",
    "```"
   ]
  },
  {
   "cell_type": "code",
   "execution_count": 18,
   "metadata": {
    "collapsed": true
   },
   "outputs": [],
   "source": [
    "# Fill in the blanks\n",
    "def visualize_EM_clusters(tf_idf, means, covs, map_index_to_word):\n",
    "    print('==========================================================')\n",
    "\n",
    "    num_clusters = len(means)\n",
    "    for c in xrange(num_clusters):\n",
    "        print('Cluster {0:d}: Largest mean parameters in cluster '.format(c))\n",
    "        print('\\n{0: <12}{1: <12}{2: <12}'.format('Word', 'Mean', 'Variance'))\n",
    "        \n",
    "        # The k'th element of sorted_word_ids should be the index of the word.\n",
    "        # that has the k'th-largest value in the cluster mean. \n",
    "        # Hint: Use np.argsort().\n",
    "        sorted_word_ids = np.argsort(means[c])\n",
    "\n",
    "        for i in sorted_word_ids[:5]:\n",
    "            print '{0: <12}{1:<10.2e}{2:10.2e}'.format(map_index_to_word['category'][i], \n",
    "                                                       means[c][i],\n",
    "                                                       covs[c][i])\n",
    "        print '\\n==========================================================\\n'"
   ]
  },
  {
   "cell_type": "code",
   "execution_count": 19,
   "metadata": {
    "collapsed": false
   },
   "outputs": [
    {
     "name": "stdout",
     "output_type": "stream",
     "text": [
      "==========================================================\n",
      "Cluster 0: Largest mean parameters in cluster \n",
      "\n",
      "Word        Mean        Variance    \n",
      "conflating  0.00e+00    1.00e-10\n",
      "rousse      0.00e+00    1.00e-10\n",
      "troopswalker0.00e+00    1.00e-10\n",
      "presidentwalsh0.00e+00    1.00e-10\n",
      "mccline     0.00e+00    1.00e-10\n",
      "\n",
      "==========================================================\n",
      "\n",
      "Cluster 1: Largest mean parameters in cluster \n",
      "\n",
      "Word        Mean        Variance    \n",
      "conflating  0.00e+00    1.00e-10\n",
      "gamesrecently0.00e+00    1.00e-10\n",
      "squatter    0.00e+00    1.00e-10\n",
      "stott       0.00e+00    1.00e-10\n",
      "hoard       0.00e+00    1.00e-10\n",
      "\n",
      "==========================================================\n",
      "\n",
      "Cluster 2: Largest mean parameters in cluster \n",
      "\n",
      "Word        Mean        Variance    \n",
      "conflating  0.00e+00    1.00e-10\n",
      "exconvict   0.00e+00    1.00e-10\n",
      "eivind      0.00e+00    1.00e-10\n",
      "giraffes    0.00e+00    1.00e-10\n",
      "jurisprudentialismlaw0.00e+00    1.00e-10\n",
      "\n",
      "==========================================================\n",
      "\n",
      "Cluster 3: Largest mean parameters in cluster \n",
      "\n",
      "Word        Mean        Variance    \n",
      "conflating  0.00e+00    1.00e-10\n",
      "syngenta    0.00e+00    1.00e-10\n",
      "pensive     0.00e+00    1.00e-10\n",
      "interregnum 0.00e+00    1.00e-10\n",
      "1977galen   0.00e+00    1.00e-10\n",
      "\n",
      "==========================================================\n",
      "\n",
      "Cluster 4: Largest mean parameters in cluster \n",
      "\n",
      "Word        Mean        Variance    \n",
      "conflating  0.00e+00    1.00e-10\n",
      "gyxa        0.00e+00    1.00e-10\n",
      "villainswhen0.00e+00    1.00e-10\n",
      "awax        0.00e+00    1.00e-10\n",
      "viottifrom  0.00e+00    1.00e-10\n",
      "\n",
      "==========================================================\n",
      "\n",
      "Cluster 5: Largest mean parameters in cluster \n",
      "\n",
      "Word        Mean        Variance    \n",
      "conflating  0.00e+00    1.00e-10\n",
      "universitynielson0.00e+00    1.00e-10\n",
      "tdc2        0.00e+00    1.00e-10\n",
      "raaflaub    0.00e+00    1.00e-10\n",
      "lohr        0.00e+00    1.00e-10\n",
      "\n",
      "==========================================================\n",
      "\n",
      "Cluster 6: Largest mean parameters in cluster \n",
      "\n",
      "Word        Mean        Variance    \n",
      "conflating  0.00e+00    1.00e-10\n",
      "ipaf        0.00e+00    1.00e-10\n",
      "supermassive0.00e+00    1.00e-10\n",
      "followsselected0.00e+00    1.00e-10\n",
      "rulon       0.00e+00    1.00e-10\n",
      "\n",
      "==========================================================\n",
      "\n",
      "Cluster 7: Largest mean parameters in cluster \n",
      "\n",
      "Word        Mean        Variance    \n",
      "conflating  0.00e+00    1.00e-10\n",
      "chichewa    0.00e+00    1.00e-10\n",
      "inventorwilliamson0.00e+00    1.00e-10\n",
      "marcelo     0.00e+00    1.00e-10\n",
      "19996       0.00e+00    1.00e-10\n",
      "\n",
      "==========================================================\n",
      "\n",
      "Cluster 8: Largest mean parameters in cluster \n",
      "\n",
      "Word        Mean        Variance    \n",
      "conflating  0.00e+00    1.00e-10\n",
      "ipaq        0.00e+00    1.00e-10\n",
      "canvass     0.00e+00    1.00e-10\n",
      "ambroise    0.00e+00    1.00e-10\n",
      "boulazac    0.00e+00    1.00e-10\n",
      "\n",
      "==========================================================\n",
      "\n",
      "Cluster 9: Largest mean parameters in cluster \n",
      "\n",
      "Word        Mean        Variance    \n",
      "conflating  0.00e+00    1.00e-10\n",
      "wwez        0.00e+00    1.00e-10\n",
      "eckbos      0.00e+00    1.00e-10\n",
      "kaplingadan 0.00e+00    1.00e-10\n",
      "swung       0.00e+00    1.00e-10\n",
      "\n",
      "==========================================================\n",
      "\n",
      "Cluster 10: Largest mean parameters in cluster \n",
      "\n",
      "Word        Mean        Variance    \n",
      "conflating  0.00e+00    1.00e-10\n",
      "hirschmore  0.00e+00    1.00e-10\n",
      "fortyyearold0.00e+00    1.00e-10\n",
      "bubalo      0.00e+00    1.00e-10\n",
      "20999       0.00e+00    1.00e-10\n",
      "\n",
      "==========================================================\n",
      "\n",
      "Cluster 11: Largest mean parameters in cluster \n",
      "\n",
      "Word        Mean        Variance    \n",
      "conflating  0.00e+00    1.00e-10\n",
      "honorhis    0.00e+00    1.00e-10\n",
      "weyerhaeuser0.00e+00    1.00e-10\n",
      "dolphinsbetters0.00e+00    1.00e-10\n",
      "thentroubled0.00e+00    1.00e-10\n",
      "\n",
      "==========================================================\n",
      "\n",
      "Cluster 12: Largest mean parameters in cluster \n",
      "\n",
      "Word        Mean        Variance    \n",
      "conflating  0.00e+00    1.00e-10\n",
      "chinaafter  0.00e+00    1.00e-10\n",
      "lundby      0.00e+00    1.00e-10\n",
      "statementpublisher0.00e+00    1.00e-10\n",
      "calverts    0.00e+00    1.00e-10\n",
      "\n",
      "==========================================================\n",
      "\n",
      "Cluster 13: Largest mean parameters in cluster \n",
      "\n",
      "Word        Mean        Variance    \n",
      "conflating  0.00e+00    1.00e-10\n",
      "everclear   0.00e+00    1.00e-10\n",
      "masque      0.00e+00    1.00e-10\n",
      "sedalia     0.00e+00    1.00e-10\n",
      "kidko       0.00e+00    1.00e-10\n",
      "\n",
      "==========================================================\n",
      "\n",
      "Cluster 14: Largest mean parameters in cluster \n",
      "\n",
      "Word        Mean        Variance    \n",
      "conflating  0.00e+00    1.00e-10\n",
      "proposta    0.00e+00    1.00e-10\n",
      "ipano       0.00e+00    1.00e-10\n",
      "bakkes      0.00e+00    1.00e-10\n",
      "multiuniversity0.00e+00    1.00e-10\n",
      "\n",
      "==========================================================\n",
      "\n",
      "Cluster 15: Largest mean parameters in cluster \n",
      "\n",
      "Word        Mean        Variance    \n",
      "conflating  0.00e+00    1.00e-10\n",
      "oberheim    0.00e+00    1.00e-10\n",
      "whitmarshs  0.00e+00    1.00e-10\n",
      "permesso    0.00e+00    1.00e-10\n",
      "lml         0.00e+00    1.00e-10\n",
      "\n",
      "==========================================================\n",
      "\n",
      "Cluster 16: Largest mean parameters in cluster \n",
      "\n",
      "Word        Mean        Variance    \n",
      "conflating  0.00e+00    1.00e-10\n",
      "minasian    0.00e+00    1.00e-10\n",
      "bassoonistshe0.00e+00    1.00e-10\n",
      "streetcomix 0.00e+00    1.00e-10\n",
      "manafter    0.00e+00    1.00e-10\n",
      "\n",
      "==========================================================\n",
      "\n",
      "Cluster 17: Largest mean parameters in cluster \n",
      "\n",
      "Word        Mean        Variance    \n",
      "hodder      0.00e+00    1.00e-10\n",
      "audrey      0.00e+00    1.00e-10\n",
      "drawmuch    0.00e+00    1.00e-10\n",
      "19802010    0.00e+00    1.00e-10\n",
      "babes       0.00e+00    1.00e-10\n",
      "\n",
      "==========================================================\n",
      "\n",
      "Cluster 18: Largest mean parameters in cluster \n",
      "\n",
      "Word        Mean        Variance    \n",
      "conflating  0.00e+00    1.00e-10\n",
      "facs        0.00e+00    1.00e-10\n",
      "bunchy      0.00e+00    1.00e-10\n",
      "espen       0.00e+00    1.00e-10\n",
      "reportingduring0.00e+00    1.00e-10\n",
      "\n",
      "==========================================================\n",
      "\n",
      "Cluster 19: Largest mean parameters in cluster \n",
      "\n",
      "Word        Mean        Variance    \n",
      "conflating  0.00e+00    1.00e-10\n",
      "torikai     0.00e+00    1.00e-10\n",
      "rahbaris    0.00e+00    1.00e-10\n",
      "kamaljit    0.00e+00    1.00e-10\n",
      "sigir       0.00e+00    1.00e-10\n",
      "\n",
      "==========================================================\n",
      "\n",
      "Cluster 20: Largest mean parameters in cluster \n",
      "\n",
      "Word        Mean        Variance    \n",
      "conflating  0.00e+00    1.00e-10\n",
      "sivas       0.00e+00    1.00e-10\n",
      "bangerang   0.00e+00    1.00e-10\n",
      "fefolt      0.00e+00    1.00e-10\n",
      "wbcs        0.00e+00    1.00e-10\n",
      "\n",
      "==========================================================\n",
      "\n",
      "Cluster 21: Largest mean parameters in cluster \n",
      "\n",
      "Word        Mean        Variance    \n",
      "conflating  0.00e+00    1.00e-10\n",
      "benatars    0.00e+00    1.00e-10\n",
      "sudhakar    0.00e+00    1.00e-10\n",
      "nando       0.00e+00    1.00e-10\n",
      "hefleys     0.00e+00    1.00e-10\n",
      "\n",
      "==========================================================\n",
      "\n",
      "Cluster 22: Largest mean parameters in cluster \n",
      "\n",
      "Word        Mean        Variance    \n",
      "conflating  0.00e+00    1.00e-10\n",
      "nehemia     0.00e+00    1.00e-10\n",
      "toyspilgrims0.00e+00    1.00e-10\n",
      "governmentat0.00e+00    1.00e-10\n",
      "kortchmar   0.00e+00    1.00e-10\n",
      "\n",
      "==========================================================\n",
      "\n",
      "Cluster 23: Largest mean parameters in cluster \n",
      "\n",
      "Word        Mean        Variance    \n",
      "conflating  0.00e+00    1.00e-10\n",
      "accessibleamazingenjoyable0.00e+00    1.00e-10\n",
      "electrophoresis0.00e+00    1.00e-10\n",
      "votefellow  0.00e+00    1.00e-10\n",
      "grinded     0.00e+00    1.00e-10\n",
      "\n",
      "==========================================================\n",
      "\n",
      "Cluster 24: Largest mean parameters in cluster \n",
      "\n",
      "Word        Mean        Variance    \n",
      "conflating  0.00e+00    1.00e-10\n",
      "gmac        0.00e+00    1.00e-10\n",
      "comanager   0.00e+00    1.00e-10\n",
      "maybeck     0.00e+00    1.00e-10\n",
      "barbas      0.00e+00    1.00e-10\n",
      "\n",
      "==========================================================\n",
      "\n"
     ]
    }
   ],
   "source": [
    "'''By EM'''\n",
    "visualize_EM_clusters(tf_idf, out['means'], out['covs'], map_index_to_word)"
   ]
  },
  {
   "cell_type": "markdown",
   "metadata": {},
   "source": [
    "**Quiz Question**. Select all the topics that have a cluster in the model created above. [multiple choice]"
   ]
  },
  {
   "cell_type": "markdown",
   "metadata": {},
   "source": [
    "## Comparing to random initialization"
   ]
  },
  {
   "cell_type": "markdown",
   "metadata": {
    "collapsed": false
   },
   "source": [
    "Create variables for randomly initializing the EM algorithm. Complete the following code block."
   ]
  },
  {
   "cell_type": "code",
   "execution_count": 26,
   "metadata": {
    "collapsed": false
   },
   "outputs": [
    {
     "name": "stdout",
     "output_type": "stream",
     "text": [
      "25\n",
      "25\n",
      "25\n"
     ]
    }
   ],
   "source": [
    "np.random.seed(5) \n",
    "num_clusters = len(means)\n",
    "num_docs, num_words = tf_idf.shape\n",
    "\n",
    "random_means = []\n",
    "random_covs = []\n",
    "random_weights = []\n",
    "\n",
    "for k in range(num_clusters):\n",
    "    \n",
    "    # Create a numpy array of length num_words with random normally distributed values.\n",
    "    # Use the standard univariate normal distribution (mean 0, variance 1).\n",
    "    mean = np.random.normal(0, 1, num_words)\n",
    "    \n",
    "    # Create a numpy array of length num_words with random values uniformly distributed between 1 and 5.\n",
    "    cov = np.random.normal(3, 0.5, num_words)\n",
    "\n",
    "    # Initially give each cluster equal weight.\n",
    "    weight = 1\n",
    "    \n",
    "    random_means.append(mean)\n",
    "    random_covs.append(cov)\n",
    "    random_weights.append(weight)\n",
    "\n",
    "print len(random_means)\n",
    "print len(random_covs)\n",
    "print len(random_weights)"
   ]
  },
  {
   "cell_type": "markdown",
   "metadata": {},
   "source": [
    "**Quiz Question**: Try fitting EM with the random initial parameters you created above. (Use `cov_smoothing=1e-5`.) Store the result to `out_random_init`. What is the final loglikelihood that the algorithm converges to? \n",
    "\n",
    "**ANS** [-774963756.57292008, 2281823456.3221016, 2362848211.5939837, 2363125398.0345216, 2363125398.0345216]"
   ]
  },
  {
   "cell_type": "code",
   "execution_count": 27,
   "metadata": {
    "collapsed": false
   },
   "outputs": [
    {
     "data": {
      "text/plain": [
       "[-774963756.57292008,\n",
       " 2281823456.3221016,\n",
       " 2362848211.5939837,\n",
       " 2363125398.0345216,\n",
       " 2363125398.0345216]"
      ]
     },
     "execution_count": 27,
     "metadata": {},
     "output_type": "execute_result"
    }
   ],
   "source": [
    "out_random_init = EM_for_high_dimension(tf_idf, random_means, random_covs, random_weights, cov_smoothing=1e-5)\n",
    "\n",
    "out_random_init['loglik']\n",
    "# previous Log Likelihood:\n",
    "# [3879297479.366981, 4883345753.5331306, 4883345753.5331306]"
   ]
  },
  {
   "cell_type": "markdown",
   "metadata": {},
   "source": [
    "**Quiz Question:** Is the final loglikelihood larger or smaller than the final loglikelihood we obtained above when initializing EM with the results from running k-means?\n",
    "\n",
    "**ANS** Smaller"
   ]
  },
  {
   "cell_type": "code",
   "execution_count": 28,
   "metadata": {
    "collapsed": false
   },
   "outputs": [
    {
     "name": "stdout",
     "output_type": "stream",
     "text": [
      "==========================================================\n",
      "Cluster 0: Largest mean parameters in cluster \n",
      "\n",
      "Word        Mean        Variance    \n",
      "conflating  0.00e+00    1.00e-05\n",
      "cdmaxi      0.00e+00    1.00e-05\n",
      "balletdirector0.00e+00    1.00e-05\n",
      "hughestalen 0.00e+00    1.00e-05\n",
      "typographic 0.00e+00    1.00e-05\n",
      "\n",
      "==========================================================\n",
      "\n",
      "Cluster 1: Largest mean parameters in cluster \n",
      "\n",
      "Word        Mean        Variance    \n",
      "conflating  0.00e+00    1.00e-05\n",
      "preestablished0.00e+00    1.00e-05\n",
      "gosnell     0.00e+00    1.00e-05\n",
      "californiaborn0.00e+00    1.00e-05\n",
      "nonjury     0.00e+00    1.00e-05\n",
      "\n",
      "==========================================================\n",
      "\n",
      "Cluster 2: Largest mean parameters in cluster \n",
      "\n",
      "Word        Mean        Variance    \n",
      "conflating  0.00e+00    1.00e-05\n",
      "refusedin   0.00e+00    1.00e-05\n",
      "gefhle      0.00e+00    1.00e-05\n",
      "bacstage    0.00e+00    1.00e-05\n",
      "deftness    0.00e+00    1.00e-05\n",
      "\n",
      "==========================================================\n",
      "\n",
      "Cluster 3: Largest mean parameters in cluster \n",
      "\n",
      "Word        Mean        Variance    \n",
      "conflating  0.00e+00    1.00e-05\n",
      "javadzadeh  0.00e+00    1.00e-05\n",
      "1978commander0.00e+00    1.00e-05\n",
      "fishings    0.00e+00    1.00e-05\n",
      "ziprin      0.00e+00    1.00e-05\n",
      "\n",
      "==========================================================\n",
      "\n",
      "Cluster 4: Largest mean parameters in cluster \n",
      "\n",
      "Word        Mean        Variance    \n",
      "conflating  0.00e+00    1.00e-05\n",
      "otherhis    0.00e+00    1.00e-05\n",
      "chauvinistic0.00e+00    1.00e-05\n",
      "tints       0.00e+00    1.00e-05\n",
      "artsalthough0.00e+00    1.00e-05\n",
      "\n",
      "==========================================================\n",
      "\n",
      "Cluster 5: Largest mean parameters in cluster \n",
      "\n",
      "Word        Mean        Variance    \n",
      "conflating  0.00e+00    1.00e-05\n",
      "martinmartin0.00e+00    1.00e-05\n",
      "fayetiliopoulos0.00e+00    1.00e-05\n",
      "mcpartlin   0.00e+00    1.00e-05\n",
      "concinnitas 0.00e+00    1.00e-05\n",
      "\n",
      "==========================================================\n",
      "\n",
      "Cluster 6: Largest mean parameters in cluster \n",
      "\n",
      "Word        Mean        Variance    \n",
      "conflating  0.00e+00    1.00e-05\n",
      "lefbvre     0.00e+00    1.00e-05\n",
      "sceneraised 0.00e+00    1.00e-05\n",
      "rolesconnaughton0.00e+00    1.00e-05\n",
      "interwoven  0.00e+00    1.00e-05\n",
      "\n",
      "==========================================================\n",
      "\n",
      "Cluster 7: Largest mean parameters in cluster \n",
      "\n",
      "Word        Mean        Variance    \n",
      "conflating  0.00e+00    1.00e-05\n",
      "larsonuniversity0.00e+00    1.00e-05\n",
      "troupes     0.00e+00    1.00e-05\n",
      "prewitt     0.00e+00    1.00e-05\n",
      "handy       0.00e+00    1.00e-05\n",
      "\n",
      "==========================================================\n",
      "\n",
      "Cluster 8: Largest mean parameters in cluster \n",
      "\n",
      "Word        Mean        Variance    \n",
      "conflating  0.00e+00    1.00e-05\n",
      "gazzetta    0.00e+00    1.00e-05\n",
      "rochtwo     0.00e+00    1.00e-05\n",
      "wordville   0.00e+00    1.00e-05\n",
      "unhurt      0.00e+00    1.00e-05\n",
      "\n",
      "==========================================================\n",
      "\n",
      "Cluster 9: Largest mean parameters in cluster \n",
      "\n",
      "Word        Mean        Variance    \n",
      "conflating  0.00e+00    1.00e-05\n",
      "corbis      0.00e+00    1.00e-05\n",
      "editorher   0.00e+00    1.00e-05\n",
      "h1452       0.00e+00    1.00e-05\n",
      "multimember 0.00e+00    1.00e-05\n",
      "\n",
      "==========================================================\n",
      "\n",
      "Cluster 10: Largest mean parameters in cluster \n",
      "\n",
      "Word        Mean        Variance    \n",
      "conflating  0.00e+00    1.00e-05\n",
      "suffocation 0.00e+00    1.00e-05\n",
      "ingemar     0.00e+00    1.00e-05\n",
      "oncehe      0.00e+00    1.00e-05\n",
      "bookssecrets0.00e+00    1.00e-05\n",
      "\n",
      "==========================================================\n",
      "\n",
      "Cluster 11: Largest mean parameters in cluster \n",
      "\n",
      "Word        Mean        Variance    \n",
      "conflating  0.00e+00    1.00e-05\n",
      "mexicomarcus0.00e+00    1.00e-05\n",
      "tumba       0.00e+00    1.00e-05\n",
      "filmmakerinresidence0.00e+00    1.00e-05\n",
      "guimet      0.00e+00    1.00e-05\n",
      "\n",
      "==========================================================\n",
      "\n",
      "Cluster 12: Largest mean parameters in cluster \n",
      "\n",
      "Word        Mean        Variance    \n",
      "conflating  0.00e+00    1.00e-05\n",
      "rsq         0.00e+00    1.00e-05\n",
      "tamburlaine 0.00e+00    1.00e-05\n",
      "bashing     0.00e+00    1.00e-05\n",
      "mallesons   0.00e+00    1.00e-05\n",
      "\n",
      "==========================================================\n",
      "\n",
      "Cluster 13: Largest mean parameters in cluster \n",
      "\n",
      "Word        Mean        Variance    \n",
      "conflating  0.00e+00    1.00e-05\n",
      "cancellations0.00e+00    1.00e-05\n",
      "policyhorowitz0.00e+00    1.00e-05\n",
      "auctioneer  0.00e+00    1.00e-05\n",
      "haaren      0.00e+00    1.00e-05\n",
      "\n",
      "==========================================================\n",
      "\n",
      "Cluster 14: Largest mean parameters in cluster \n",
      "\n",
      "Word        Mean        Variance    \n",
      "conflating  0.00e+00    1.00e-05\n",
      "outbuildings0.00e+00    1.00e-05\n",
      "pacou       0.00e+00    1.00e-05\n",
      "permanente  0.00e+00    1.00e-05\n",
      "agrippina   0.00e+00    1.00e-05\n",
      "\n",
      "==========================================================\n",
      "\n",
      "Cluster 15: Largest mean parameters in cluster \n",
      "\n",
      "Word        Mean        Variance    \n",
      "conflating  0.00e+00    1.00e-05\n",
      "ajaxin      0.00e+00    1.00e-05\n",
      "crawfordfrom0.00e+00    1.00e-05\n",
      "rework      0.00e+00    1.00e-05\n",
      "districtchairman0.00e+00    1.00e-05\n",
      "\n",
      "==========================================================\n",
      "\n",
      "Cluster 16: Largest mean parameters in cluster \n",
      "\n",
      "Word        Mean        Variance    \n",
      "conflating  0.00e+00    1.00e-05\n",
      "characteristicsspanning0.00e+00    1.00e-05\n",
      "sreten      0.00e+00    1.00e-05\n",
      "carbonfibre 0.00e+00    1.00e-05\n",
      "aneesur     0.00e+00    1.00e-05\n",
      "\n",
      "==========================================================\n",
      "\n",
      "Cluster 17: Largest mean parameters in cluster \n",
      "\n",
      "Word        Mean        Variance    \n",
      "conflating  0.00e+00    1.00e-05\n",
      "zoey        0.00e+00    1.00e-05\n",
      "seasonsafter0.00e+00    1.00e-05\n",
      "2004kleid   0.00e+00    1.00e-05\n",
      "fives       0.00e+00    1.00e-05\n",
      "\n",
      "==========================================================\n",
      "\n",
      "Cluster 18: Largest mean parameters in cluster \n",
      "\n",
      "Word        Mean        Variance    \n",
      "conflating  0.00e+00    1.00e-05\n",
      "oswego      0.00e+00    1.00e-05\n",
      "loudun      0.00e+00    1.00e-05\n",
      "fsg         0.00e+00    1.00e-05\n",
      "erratic     0.00e+00    1.00e-05\n",
      "\n",
      "==========================================================\n",
      "\n",
      "Cluster 19: Largest mean parameters in cluster \n",
      "\n",
      "Word        Mean        Variance    \n",
      "conflating  0.00e+00    1.00e-05\n",
      "lakembafurolo0.00e+00    1.00e-05\n",
      "faran       0.00e+00    1.00e-05\n",
      "stoppedin   0.00e+00    1.00e-05\n",
      "satiricn    0.00e+00    1.00e-05\n",
      "\n",
      "==========================================================\n",
      "\n",
      "Cluster 20: Largest mean parameters in cluster \n",
      "\n",
      "Word        Mean        Variance    \n",
      "conflating  0.00e+00    1.00e-05\n",
      "groland     0.00e+00    1.00e-05\n",
      "troopsfor   0.00e+00    1.00e-05\n",
      "1000th      0.00e+00    1.00e-05\n",
      "vladimirovich0.00e+00    1.00e-05\n",
      "\n",
      "==========================================================\n",
      "\n",
      "Cluster 21: Largest mean parameters in cluster \n",
      "\n",
      "Word        Mean        Variance    \n",
      "hodder      0.00e+00    1.00e-05\n",
      "berrythe    0.00e+00    1.00e-05\n",
      "2025        0.00e+00    1.00e-05\n",
      "tuvalu      0.00e+00    1.00e-05\n",
      "universityhawaii0.00e+00    1.00e-05\n",
      "\n",
      "==========================================================\n",
      "\n",
      "Cluster 22: Largest mean parameters in cluster \n",
      "\n",
      "Word        Mean        Variance    \n",
      "conflating  0.00e+00    1.00e-05\n",
      "kali        0.00e+00    1.00e-05\n",
      "1914        0.00e+00    1.00e-05\n",
      "lumumba     0.00e+00    1.00e-05\n",
      "chio        0.00e+00    1.00e-05\n",
      "\n",
      "==========================================================\n",
      "\n",
      "Cluster 23: Largest mean parameters in cluster \n",
      "\n",
      "Word        Mean        Variance    \n",
      "conflating  0.00e+00    1.00e-05\n",
      "outposts    0.00e+00    1.00e-05\n",
      "mccurdy     0.00e+00    1.00e-05\n",
      "selfassemble0.00e+00    1.00e-05\n",
      "centaurs    0.00e+00    1.00e-05\n",
      "\n",
      "==========================================================\n",
      "\n",
      "Cluster 24: Largest mean parameters in cluster \n",
      "\n",
      "Word        Mean        Variance    \n",
      "conflating  0.00e+00    1.00e-05\n",
      "berkowitz   0.00e+00    1.00e-05\n",
      "mississippiwith0.00e+00    1.00e-05\n",
      "sandor      0.00e+00    1.00e-05\n",
      "lewellys    0.00e+00    1.00e-05\n",
      "\n",
      "==========================================================\n",
      "\n"
     ]
    }
   ],
   "source": [
    "# Use visualize_EM_clusters, which will require you to pass in tf_idf and map_index_to_word.\n",
    "\n",
    "visualize_EM_clusters(tf_idf, out_random_init['means'], out_random_init['covs'], map_index_to_word)"
   ]
  },
  {
   "cell_type": "markdown",
   "metadata": {},
   "source": [
    "**Quiz Question**: For the above model, `out_random_init`, use the `visualize_EM_clusters` method you created above. Are the clusters more or less interpretable than the ones found after initializing using k-means?\n",
    "\n",
    "**ANS** less"
   ]
  },
  {
   "cell_type": "markdown",
   "metadata": {
    "collapsed": true
   },
   "source": [
    "**Note**: Random initialization may sometimes produce a superior fit than k-means initialization. We do not claim that random initialization is always worse. However, this section does illustrate that random initialization often produces much worse clustering than k-means counterpart. This is the reason why we provide the particular random seed (`np.random.seed(5)`)."
   ]
  },
  {
   "cell_type": "markdown",
   "metadata": {
    "collapsed": true
   },
   "source": [
    "## Takeaway\n",
    "\n",
    "In this assignment we were able to apply the EM algorithm to a mixture of Gaussians model of text data. This was made possible by modifying the model to assume a diagonal covariance for each cluster, and by modifying the implementation to use a sparse matrix representation. In the second part you explored the role of k-means initialization on the convergence of the model as well as the interpretability of the clusters."
   ]
  },
  {
   "cell_type": "code",
   "execution_count": null,
   "metadata": {
    "collapsed": true
   },
   "outputs": [],
   "source": []
  }
 ],
 "metadata": {
  "anaconda-cloud": {},
  "kernelspec": {
   "display_name": "Python 2",
   "language": "python",
   "name": "python2"
  },
  "language_info": {
   "codemirror_mode": {
    "name": "ipython",
    "version": 2
   },
   "file_extension": ".py",
   "mimetype": "text/x-python",
   "name": "python",
   "nbconvert_exporter": "python",
   "pygments_lexer": "ipython2",
   "version": "2.7.11"
  }
 },
 "nbformat": 4,
 "nbformat_minor": 0
}
